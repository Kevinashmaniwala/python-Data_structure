{
  "metadata": {
    "kernelspec": {
      "name": "python",
      "display_name": "Python (Pyodide)",
      "language": "python"
    },
    "language_info": {
      "codemirror_mode": {
        "name": "python",
        "version": 3
      },
      "file_extension": ".py",
      "mimetype": "text/x-python",
      "name": "python",
      "nbconvert_exporter": "python",
      "pygments_lexer": "ipython3",
      "version": "3.8"
    }
  },
  "nbformat_minor": 5,
  "nbformat": 4,
  "cells": [
    {
      "id": "f6553bbd-6f0a-4ac2-943b-51d7a01e3c34",
      "cell_type": "code",
      "source": "#1. Write a code to create a string with your name and print it\nstr=\"kevin ashmaniwala\"\nprint(str)\n",
      "metadata": {
        "trusted": true
      },
      "outputs": [
        {
          "name": "stdout",
          "output_type": "stream",
          "text": "kevin ashmaniwala\n"
        }
      ],
      "execution_count": 1
    },
    {
      "id": "ce6e82cf-6687-4510-a854-442dbb014ab6",
      "cell_type": "code",
      "source": "#2. Write a code to find the length of the string \"Hello World\"P\nstr=\"Hello world\"\nlen(str)",
      "metadata": {
        "trusted": true
      },
      "outputs": [
        {
          "execution_count": 2,
          "output_type": "execute_result",
          "data": {
            "text/plain": "11"
          },
          "metadata": {}
        }
      ],
      "execution_count": 2
    },
    {
      "id": "72b40762-858c-4a5d-ba4b-8f078a147f9f",
      "cell_type": "code",
      "source": "#3. Write a code to slice the first 3 characters from the string \"Python Programming\"\nstr=\"Python Programmin\"\nstr[:3]",
      "metadata": {
        "trusted": true
      },
      "outputs": [
        {
          "execution_count": 4,
          "output_type": "execute_result",
          "data": {
            "text/plain": "'Pyt'"
          },
          "metadata": {}
        }
      ],
      "execution_count": 4
    },
    {
      "id": "ce531a62-7434-4656-b3e2-be042955c814",
      "cell_type": "code",
      "source": "#4  Write a code to convert the string \"hello\" to uppercase.\nstr=\"hello\"\nstr.upper()",
      "metadata": {
        "trusted": true
      },
      "outputs": [
        {
          "execution_count": 5,
          "output_type": "execute_result",
          "data": {
            "text/plain": "'HELLO'"
          },
          "metadata": {}
        }
      ],
      "execution_count": 5
    },
    {
      "id": "0799e7ad-02b0-42df-b2ff-66f42d2a96f0",
      "cell_type": "code",
      "source": "#5. Write a code to replace the word \"apple\" with \"orange\" in the string \"I like apple\".\nstr=\"I Like apple\"\na=str.replace(\"apple\",\"orange\")\nprint(a)",
      "metadata": {
        "trusted": true
      },
      "outputs": [
        {
          "name": "stdout",
          "output_type": "stream",
          "text": "I Like orange\n"
        }
      ],
      "execution_count": 7
    },
    {
      "id": "7dd9ec5b-7011-4487-aabb-c47063b69f40",
      "cell_type": "code",
      "source": "#6. Write a code to create a list with numbers 1 to 5 and print it.\nlist=[1,2,3,4,5]\nprint(list)",
      "metadata": {
        "trusted": true
      },
      "outputs": [
        {
          "name": "stdout",
          "output_type": "stream",
          "text": "[1, 2, 3, 4, 5]\n"
        }
      ],
      "execution_count": 8
    },
    {
      "id": "2c49b77b-c714-4c9f-82e7-eed9eca995df",
      "cell_type": "code",
      "source": "#7. Write a code to append the number 10 to the list [1, 2, 3, 4].\nlist=[1,2,3,4]\nlist.append(10)\nprint(list)",
      "metadata": {
        "trusted": true
      },
      "outputs": [
        {
          "name": "stdout",
          "output_type": "stream",
          "text": "[1, 2, 3, 4, 10]\n"
        }
      ],
      "execution_count": 16
    },
    {
      "id": "aebf5071-79f8-4c7e-afce-cf295fa8dd93",
      "cell_type": "code",
      "source": "#8.Write a code to remove the number 3 from the list [1, 2, 3, 4, 5]\nlist=[1,2,3,4,5]\nlist.remove(3)\nprint(list)",
      "metadata": {
        "trusted": true
      },
      "outputs": [
        {
          "name": "stdout",
          "output_type": "stream",
          "text": "[1, 2, 4, 5]\n"
        }
      ],
      "execution_count": 18
    },
    {
      "id": "a1a3e17e-9b32-40f4-80d4-4ea814eebc0f",
      "cell_type": "code",
      "source": "#9. Write a code to access the second element in the list ['a', 'b', 'c', 'd']\nlist=['a','b','c','d']\na=list[1]\nprint(a)",
      "metadata": {
        "trusted": true
      },
      "outputs": [
        {
          "name": "stdout",
          "output_type": "stream",
          "text": "b\n"
        }
      ],
      "execution_count": 22
    },
    {
      "id": "312c5009-5578-43d4-b73a-85f4ec3c27e2",
      "cell_type": "code",
      "source": "#10.Write a code to reverse the list [10, 20, 30, 40, 50].\nlist=[10,20,30,40,50]\nlist.reverse() \nprint(list)",
      "metadata": {
        "trusted": true
      },
      "outputs": [
        {
          "name": "stdout",
          "output_type": "stream",
          "text": "[50, 40, 30, 20, 10]\n"
        }
      ],
      "execution_count": 33
    },
    {
      "id": "9a56a518-bbf1-4bcb-8a75-fa351244285d",
      "cell_type": "code",
      "source": "#11.  Write a code to create a tuple with the elements 100, 200, 300 and print it.\ntuple=(100,200,300)\nprint(tuple)\n",
      "metadata": {
        "trusted": true
      },
      "outputs": [
        {
          "name": "stdout",
          "output_type": "stream",
          "text": "(100, 200, 300)\n"
        }
      ],
      "execution_count": 34
    },
    {
      "id": "dac0e426-7e2f-4528-8260-3b6e05c29e48",
      "cell_type": "code",
      "source": "#12. Write a code to access the second-to-last element of the tuple ('red', 'green', 'blue', 'yellow').\ntuple=('red','green','blue','yellow')\ntuple[2]\n",
      "metadata": {
        "trusted": true
      },
      "outputs": [
        {
          "execution_count": 37,
          "output_type": "execute_result",
          "data": {
            "text/plain": "'blue'"
          },
          "metadata": {}
        }
      ],
      "execution_count": 37
    },
    {
      "id": "aa75e681-4d4d-497a-af5e-2a560c191e95",
      "cell_type": "code",
      "source": "#13.Write a code to find the minimum number in the tuple (10, 20, 5, 15).\ntuple=(10,20,5,15)\nmax(tuple)",
      "metadata": {
        "trusted": true
      },
      "outputs": [
        {
          "execution_count": 38,
          "output_type": "execute_result",
          "data": {
            "text/plain": "20"
          },
          "metadata": {}
        }
      ],
      "execution_count": 38
    },
    {
      "id": "cdd5bc10-590b-42a5-8bf4-c8751207169b",
      "cell_type": "code",
      "source": "#14. Write a code to find the index of the element \"cat\" in the tuple ('dog', 'cat', 'rabbit').\ntuple=('dog','cat','rabbit')\na=tuple.index('cat')\nprint(a)\n",
      "metadata": {
        "trusted": true
      },
      "outputs": [
        {
          "name": "stdout",
          "output_type": "stream",
          "text": "1\n"
        }
      ],
      "execution_count": 43
    },
    {
      "id": "c5c5c998-1ac1-49d5-b9c4-21d75025cbd5",
      "cell_type": "code",
      "source": "#15.Write a code to create a tuple containing three different fruits and check if \"kiwi\" is in it.\ntuple=('apple','kiwi','banana')\nif 'kiwi' in tuple:\n    print(\"kiwi is available\")\nelse:\n    print(\"kiwi is not available\")\n",
      "metadata": {
        "trusted": true
      },
      "outputs": [
        {
          "name": "stdout",
          "output_type": "stream",
          "text": "kiwi is available\n"
        }
      ],
      "execution_count": 49
    },
    {
      "id": "ab29f174-b2fb-4886-894f-0361dca0417d",
      "cell_type": "code",
      "source": "#16. Write a code to create a set with the elements 'a', 'b', 'c' and print it.\nset={'a','b','c'}\nprint(set)",
      "metadata": {
        "trusted": true
      },
      "outputs": [
        {
          "name": "stdout",
          "output_type": "stream",
          "text": "{'b', 'c', 'a'}\n"
        }
      ],
      "execution_count": 51
    },
    {
      "id": "a0abfe6b-4eae-43a7-bb77-9fd6144bc16e",
      "cell_type": "code",
      "source": "#17.Write a code to clear all elements from the set {1, 2, 3, 4, 5}.\nset={1,2,3,4}\nset.clear()\nprint(set)",
      "metadata": {
        "trusted": true
      },
      "outputs": [
        {
          "name": "stdout",
          "output_type": "stream",
          "text": "set()\n"
        }
      ],
      "execution_count": 56
    },
    {
      "id": "0ef276e0-eb6e-44c2-9eab-0bcb37321ca0",
      "cell_type": "code",
      "source": "#18.Write a code to remove the element 4 from the set {1, 2, 3, 4}.\nset={1,2,3,4}\nset.remove(4)\nprint(set)",
      "metadata": {
        "trusted": true
      },
      "outputs": [
        {
          "name": "stdout",
          "output_type": "stream",
          "text": "{1, 2, 3}\n"
        }
      ],
      "execution_count": 57
    },
    {
      "id": "56b77339-d018-4152-a21c-2d69b8ff3c72",
      "cell_type": "code",
      "source": "#19. Write a code to find the union of two sets {1, 2, 3} and {3, 4, 5}.\nset1={1,2,3}\nset2={3,4,5}\na=set1.union(set2)\nprint(a)",
      "metadata": {
        "trusted": true
      },
      "outputs": [
        {
          "name": "stdout",
          "output_type": "stream",
          "text": "{1, 2, 3, 4, 5}\n"
        }
      ],
      "execution_count": 64
    },
    {
      "id": "790c86ea-67bd-49d1-81ba-6e166208785e",
      "cell_type": "code",
      "source": "#20.Write a code to find the intersection of two sets {1, 2, 3} and {2, 3, 4}.\nset1={1,2,3}\nset2={2,3,4}\na=set1.intersection(set2)\nprint(a)",
      "metadata": {
        "trusted": true
      },
      "outputs": [
        {
          "name": "stdout",
          "output_type": "stream",
          "text": "{2, 3}\n"
        }
      ],
      "execution_count": 65
    },
    {
      "id": "2fcc281a-63d0-4431-9158-7766b4fb96d9",
      "cell_type": "code",
      "source": "#21.Write a code to create a dictionary with the keys \"name\", \"age\", and \"city\", and print it.\ndict={\"name\":\"kevin\",\"age\":22,\"city\":\"surat\"}\nprint(dict)\n",
      "metadata": {
        "trusted": true
      },
      "outputs": [
        {
          "name": "stdout",
          "output_type": "stream",
          "text": "{'name': 'kevin', 'age': 22, 'city': 'surat'}\n"
        }
      ],
      "execution_count": 67
    },
    {
      "id": "90844b71-ed3e-44f0-89a6-2424efa40e4a",
      "cell_type": "code",
      "source": "#22.Write a code to add a new key-value pair \"country\": \"USA\" to the dictionary {'name': 'John', 'age': 25}.\ndict={\"name\":\"john\",\"age\":25}\ndict['city']='USA'\nprint(dict)",
      "metadata": {
        "trusted": true
      },
      "outputs": [
        {
          "name": "stdout",
          "output_type": "stream",
          "text": "{'name': 'john', 'age': 25, 'city': 'USA'}\n"
        }
      ],
      "execution_count": 72
    },
    {
      "id": "1e694855-b01a-45e3-b49d-d439724f14fd",
      "cell_type": "code",
      "source": " #23. Write a code to access the value associated with the key \"name\" in the dictionary {'name': 'Alice', 'age': 30}.\ndict={\"name\":\"Alice\",\"age\":30}\na=dict[\"name\"]\nprint(a)",
      "metadata": {
        "trusted": true
      },
      "outputs": [
        {
          "name": "stdout",
          "output_type": "stream",
          "text": "Alice\n"
        }
      ],
      "execution_count": 74
    },
    {
      "id": "93d15251-d87b-45b2-8cac-f0652cbd0970",
      "cell_type": "code",
      "source": "#24.Write a code to remove the key \"age\" from the dictionary {'name': 'Bob', 'age': 22, 'city': 'New York'}.\ndict={\"name\":\"bob\",\"age\":22,\"city\":\"New York\"}\ndel dict[\"age\"]\nprint(dict)",
      "metadata": {
        "trusted": true
      },
      "outputs": [
        {
          "name": "stdout",
          "output_type": "stream",
          "text": "{'name': 'bob', 'city': 'New York'}\n"
        }
      ],
      "execution_count": 79
    },
    {
      "id": "54a13a92-c677-4900-8388-b1e0e8e28ee1",
      "cell_type": "code",
      "source": "#25.Write a code to check if the key \"city\" exists in the dictionary {'name': 'Alice', 'city': 'Paris'}.\ndict={\"name\":\"Alice\",\"city\":\"Paris\"}\nif \"city\" in dict:\n    print(\"city is exists\")\nelse:\n    print(\"city is not exists\")\n",
      "metadata": {
        "trusted": true
      },
      "outputs": [
        {
          "name": "stdout",
          "output_type": "stream",
          "text": "city is exists\n"
        }
      ],
      "execution_count": 81
    },
    {
      "id": "f5c0a370-c417-43d0-b723-73a0a8b1f57c",
      "cell_type": "code",
      "source": "#26.Write a code to create a list, a tuple, and a dictionary, and print them all.\nlist=[1,2,3]\ntuple=(1,2,3)\ndict={\"name\":\"kevin\",\"age\":22}\nprint(list,tuple,dict)\n",
      "metadata": {
        "trusted": true
      },
      "outputs": [
        {
          "name": "stdout",
          "output_type": "stream",
          "text": "[1, 2, 3] (1, 2, 3) {'name': 'kevin', 'age': 22}\n"
        }
      ],
      "execution_count": 83
    },
    {
      "id": "e355f430-803b-48d3-bcb8-f0edf5c23f8f",
      "cell_type": "code",
      "source": "#27.Write a code to create a list of 5 random numbers between 1 and 100, sort it in ascending order, and print the\n#result.(replaced)\nimport random\nrandom_numbers = random.choices(range(1, 101), k=5)\nrandom_numbers.sort()\nprint(random_numbers)\n",
      "metadata": {
        "trusted": true
      },
      "outputs": [
        {
          "name": "stdout",
          "output_type": "stream",
          "text": "[26, 44, 47, 78, 79]\n"
        }
      ],
      "execution_count": 92
    },
    {
      "id": "ca92619f-2d72-4dfa-b7f1-899ae14f96fa",
      "cell_type": "code",
      "source": " #28.Write a code to create a list with strings and print the element at the third index\nlist=[\"kevin\",\"vatsal\",\"dharm\",\"dev\",\"rutansh\"]\nlist[2]",
      "metadata": {
        "trusted": true
      },
      "outputs": [
        {
          "execution_count": 97,
          "output_type": "execute_result",
          "data": {
            "text/plain": "'dharm'"
          },
          "metadata": {}
        }
      ],
      "execution_count": 97
    },
    {
      "id": "978d1a9c-7094-4f2a-989a-f3411127357d",
      "cell_type": "code",
      "source": "#29. Write a code to combine two dictionaries into one and print the result.\ndict1={\"name\":\"kevin\", \"age\":22}\ndict2={\"name\":\"dharm\",\"age\":22}\ndict1.update(dict2)\nprint(dict1)",
      "metadata": {
        "trusted": true
      },
      "outputs": [
        {
          "name": "stdout",
          "output_type": "stream",
          "text": "{'name': 'dharm', 'age': 22}\n"
        }
      ],
      "execution_count": 100
    },
    {
      "id": "8cddab9c-c48e-4658-8963-1769713d90bc",
      "cell_type": "code",
      "source": "#30. Write a code to convert a list of strings into a set.\nlist=[\"kevin\",\"vatsal\",\"dharm\"]\na=set(list)\nprint(a)",
      "metadata": {
        "trusted": true
      },
      "outputs": [],
      "execution_count": 109
    },
    {
      "id": "85342050-8c1d-4e35-8afe-5c1db3f5afa2",
      "cell_type": "code",
      "source": "",
      "metadata": {
        "trusted": true
      },
      "outputs": [],
      "execution_count": null
    },
    {
      "id": "10a88f51-18df-4a90-b61f-5098c9aeb986",
      "cell_type": "code",
      "source": "#Data Types and Structures Questions",
      "metadata": {
        "trusted": true
      },
      "outputs": [],
      "execution_count": null
    },
    {
      "id": "c2cbf128-3dc8-4a9b-a125-75e1e952acc1",
      "cell_type": "code",
      "source": "#1. What are data structures, and why are they important?\n# data structure is  a way oreagranizating & storing data so that it can be accessed & manupulated effeciently .\n#important for data organization,scalability,create application \n",
      "metadata": {
        "trusted": true
      },
      "outputs": [],
      "execution_count": 110
    },
    {
      "id": "6c3447a8-eb60-40b3-a87a-d4e1ad1d5042",
      "cell_type": "code",
      "source": "#2. Explain the difference between mutable and immutable data types with examples\n#mutable means its is allow to modify the data . example of mutable is list\n#immutable meand its is not allow to modify the data . example of immutable tuple,string,list",
      "metadata": {
        "trusted": true
      },
      "outputs": [],
      "execution_count": null
    },
    {
      "id": "fef210b9-e36f-4b42-8771-43e56e8f5bc0",
      "cell_type": "code",
      "source": "#3.What are the main differences between lists and tuples in Python ?\n#list is muteable but tuple is immutable.\n",
      "metadata": {
        "trusted": true
      },
      "outputs": [],
      "execution_count": null
    },
    {
      "id": "8bfc4d17-21ef-4ab3-baaa-8dedbb5bb9b2",
      "cell_type": "code",
      "source": "#4.Describe how dictionaries store data.\n#dictionaries store the data in key value pair \n# ex dict={\"name\":\"kevin\"}\n# in this example name is key & value is kevin\n",
      "metadata": {
        "trusted": true
      },
      "outputs": [],
      "execution_count": null
    },
    {
      "id": "42e346b1-1ee5-435e-88a8-ba84e9c71f02",
      "cell_type": "code",
      "source": "#5.Why might you use a set instead of a list in Python ?\n#set is not allow to duplicate value but list is allow duplicate value \n",
      "metadata": {
        "trusted": true
      },
      "outputs": [],
      "execution_count": null
    },
    {
      "id": "b263f9b3-29c9-4f29-a448-78c170434480",
      "cell_type": "code",
      "source": "#6.What is a string in Python, and how is it different from a list ?\n#string is immutable they can't after create changable but list is mutable it is allow to change the value.\n# Use a string when working with text but list is woking with multiple value.",
      "metadata": {
        "trusted": true
      },
      "outputs": [],
      "execution_count": null
    },
    {
      "id": "a38e275a-ba38-48a3-8460-1cec77818566",
      "cell_type": "code",
      "source": "#7.How do tuples ensure data integrity in Python?\n#Tuples ensure data integrity by preventing modifications.\n",
      "metadata": {
        "trusted": true
      },
      "outputs": [],
      "execution_count": null
    },
    {
      "id": "5ea93962-666c-4327-984d-a288a890297d",
      "cell_type": "code",
      "source": "#8.What is a hash table, and how does it relate to dictionaries in Python?\n#A hash table is the foundation of Python dictionaries, making them fast and efficient.",
      "metadata": {
        "trusted": true
      },
      "outputs": [],
      "execution_count": null
    },
    {
      "id": "88b4316d-8527-4a35-9ac5-2db937d49928",
      "cell_type": "code",
      "source": "#9. Can lists contain different data types in Python?\n#yes",
      "metadata": {
        "trusted": true
      },
      "outputs": [],
      "execution_count": null
    },
    {
      "id": "e7bdaa84-d2b9-40e0-9266-a6057a8c0127",
      "cell_type": "code",
      "source": "#10. Explain why strings are immutable in Python\ns = \"hello\"\ns[0] = \"H\"  # TypeError: 'str' object does not support item assignment means you can not change the value\n",
      "metadata": {
        "trusted": true
      },
      "outputs": [],
      "execution_count": null
    },
    {
      "id": "e06bb183-ddf9-4bd6-89a6-91822fe75181",
      "cell_type": "code",
      "source": "#11. What advantages do dictionaries offer over lists for certain tasks?\n#store data in key value pair ,avoid duplicate value",
      "metadata": {
        "trusted": true
      },
      "outputs": [],
      "execution_count": null
    },
    {
      "id": "c2d4a08f-3083-4662-b87b-2574086ef39b",
      "cell_type": "code",
      "source": "#12.Describe a scenario where using a tuple would be preferable over a list?\n#tuples are immutable means they cannot be changed after creation",
      "metadata": {
        "trusted": true
      },
      "outputs": [],
      "execution_count": null
    },
    {
      "id": "f3b80075-a546-491d-a666-b9008f263b8a",
      "cell_type": "code",
      "source": "#13.How do sets handle duplicate values in Python ?\n# sets automatically remove duplicate values because they are unordered collections of unique elements.\n",
      "metadata": {
        "trusted": true
      },
      "outputs": [],
      "execution_count": null
    },
    {
      "id": "adea42b0-2450-424e-87cf-b4f6e631678d",
      "cell_type": "code",
      "source": "#14.How does the “in” keyword work differently for lists and dictionaries ?\n#Use in with lists to check if an item exists .\n#Use in with dictionaries to check if a key exists",
      "metadata": {
        "trusted": true
      },
      "outputs": [],
      "execution_count": null
    },
    {
      "id": "765df52d-7fb2-41fd-9b17-f54a814be049",
      "cell_type": "code",
      "source": "#15.Can you modify the elements of a tuple? Explain why or why not ?\n# not , because of tuple is immutable .",
      "metadata": {
        "trusted": true
      },
      "outputs": [],
      "execution_count": null
    },
    {
      "id": "238514a1-e7c7-41ff-b91d-caad320646c2",
      "cell_type": "code",
      "source": "#16.What is a nested dictionary, and give an example of its use case?\n#a nested dictionary is a dictionary inside another dictionary.\n#EX: \nemployees = {\n    \"E001\": {\"name\": \"John\", \"position\": \"Manager\", \"salary\": 60000},\n    \"E002\": {\"name\": \"Sara\", \"position\": \"Developer\", \"salary\": 50000},\n    \"E003\": {\"name\": \"Mike\", \"position\": \"Designer\", \"salary\": 45000}\n}\n\n\nprint(employees)  \n",
      "metadata": {
        "trusted": true
      },
      "outputs": [
        {
          "name": "stdout",
          "output_type": "stream",
          "text": "{'E001': {'name': 'John', 'position': 'Manager', 'salary': 60000}, 'E002': {'name': 'Sara', 'position': 'Developer', 'salary': 50000}, 'E003': {'name': 'Mike', 'position': 'Designer', 'salary': 45000}}\n"
        }
      ],
      "execution_count": 111
    },
    {
      "id": "24ffa7b6-d871-4648-b300-a6e61b0f5397",
      "cell_type": "code",
      "source": "#17.Describe the time complexity of accessing elements in a dictionaryP\n#dictionaries in Python are implemented using hash tables.",
      "metadata": {
        "trusted": true
      },
      "outputs": [],
      "execution_count": null
    },
    {
      "id": "86f6e4e2-8046-4fec-b006-cdb652c7199d",
      "cell_type": "code",
      "source": "#18.In what situations are lists preferred over dictionaries?\n#order data,index access, allow duplicates .\n",
      "metadata": {
        "trusted": true
      },
      "outputs": [],
      "execution_count": null
    },
    {
      "id": "562f9bf9-d993-40db-865b-d653e4031687",
      "cell_type": "code",
      "source": "#19.Why are dictionaries considered unordered, and how does that affect data retrieval3\n#because Python dictionaries are not intended to be in order",
      "metadata": {
        "trusted": true
      },
      "outputs": [],
      "execution_count": null
    },
    {
      "id": "4a472816-f58b-410e-856c-ba6de59ed048",
      "cell_type": "code",
      "source": "#20.Explain the difference between a list and a dictionary in terms of data retrieval\n#list is immutable but dictionary is mutable \n#iist is retrive data from index but dictionary can't retrieval data from index ",
      "metadata": {
        "trusted": true
      },
      "outputs": [],
      "execution_count": null
    },
    {
      "id": "702dca39-2977-49a2-86c6-31d9ca2387f7",
      "cell_type": "code",
      "source": "",
      "metadata": {
        "trusted": true
      },
      "outputs": [],
      "execution_count": null
    },
    {
      "id": "fae6de54-b494-40d2-8b84-51f1587eb820",
      "cell_type": "code",
      "source": "",
      "metadata": {
        "trusted": true
      },
      "outputs": [],
      "execution_count": null
    },
    {
      "id": "db622484-9287-4ffd-bc93-2bba2b552efb",
      "cell_type": "code",
      "source": "",
      "metadata": {
        "trusted": true
      },
      "outputs": [],
      "execution_count": null
    },
    {
      "id": "64f8aa1d-5f3e-44d0-a871-7dda2ad7a25c",
      "cell_type": "code",
      "source": "",
      "metadata": {
        "trusted": true
      },
      "outputs": [],
      "execution_count": null
    },
    {
      "id": "21b846a9-98e0-47b6-91c9-8e160c31b5e8",
      "cell_type": "code",
      "source": "",
      "metadata": {
        "trusted": true
      },
      "outputs": [],
      "execution_count": null
    },
    {
      "id": "0fad5509-6d77-4427-8df3-bd5e8da34445",
      "cell_type": "code",
      "source": "",
      "metadata": {
        "trusted": true
      },
      "outputs": [],
      "execution_count": null
    },
    {
      "id": "6f6aa52d-3856-41d9-96e0-e04b4cd81519",
      "cell_type": "code",
      "source": "",
      "metadata": {
        "trusted": true
      },
      "outputs": [],
      "execution_count": null
    },
    {
      "id": "a6b07495-abf0-412f-9a7b-f4ec06096864",
      "cell_type": "code",
      "source": "",
      "metadata": {
        "trusted": true
      },
      "outputs": [],
      "execution_count": null
    },
    {
      "id": "cd7e6250-4005-40ec-b9e9-3f8166e6827c",
      "cell_type": "code",
      "source": "",
      "metadata": {
        "trusted": true
      },
      "outputs": [],
      "execution_count": null
    },
    {
      "id": "de64dbeb-e84a-4333-bed8-b180a9b23ce9",
      "cell_type": "code",
      "source": "",
      "metadata": {
        "trusted": true
      },
      "outputs": [],
      "execution_count": null
    },
    {
      "id": "ca808838-e3b6-441c-b3b5-045ecb78d6eb",
      "cell_type": "code",
      "source": "",
      "metadata": {
        "trusted": true
      },
      "outputs": [],
      "execution_count": null
    },
    {
      "id": "f7df11fc-6a0f-468d-89c0-5fb6c020769f",
      "cell_type": "code",
      "source": "",
      "metadata": {
        "trusted": true
      },
      "outputs": [],
      "execution_count": null
    },
    {
      "id": "0a6e8eb4-68d1-4858-839c-16b52163c4c9",
      "cell_type": "code",
      "source": "",
      "metadata": {
        "trusted": true
      },
      "outputs": [],
      "execution_count": null
    },
    {
      "id": "ad70a98e-c26c-4940-b897-6cab37156f0d",
      "cell_type": "code",
      "source": "",
      "metadata": {
        "trusted": true
      },
      "outputs": [],
      "execution_count": null
    },
    {
      "id": "5de7f9ad-45ce-4cec-a13e-d2d72ab6f7b7",
      "cell_type": "code",
      "source": "",
      "metadata": {
        "trusted": true
      },
      "outputs": [],
      "execution_count": null
    },
    {
      "id": "3c839691-6aa3-4d26-a12b-bb19d72a0922",
      "cell_type": "code",
      "source": "",
      "metadata": {
        "trusted": true
      },
      "outputs": [],
      "execution_count": null
    },
    {
      "id": "2597c3fe-351e-490a-adbb-0db255a84120",
      "cell_type": "code",
      "source": "",
      "metadata": {
        "trusted": true
      },
      "outputs": [],
      "execution_count": null
    },
    {
      "id": "cc770bca-fc5b-4ac6-b8f7-3c3e66df4e4b",
      "cell_type": "code",
      "source": "",
      "metadata": {
        "trusted": true
      },
      "outputs": [],
      "execution_count": null
    },
    {
      "id": "60a5e1f2-2057-4a1f-b083-041b4904633e",
      "cell_type": "code",
      "source": "",
      "metadata": {
        "trusted": true
      },
      "outputs": [],
      "execution_count": null
    },
    {
      "id": "423b5664-3fc5-4075-91bc-ce330440c172",
      "cell_type": "code",
      "source": "",
      "metadata": {
        "trusted": true
      },
      "outputs": [],
      "execution_count": null
    },
    {
      "id": "9c69399b-f118-4dfa-8f3e-fc4334e09031",
      "cell_type": "code",
      "source": "",
      "metadata": {
        "trusted": true
      },
      "outputs": [],
      "execution_count": null
    },
    {
      "id": "9747b719-9cdf-4736-87b3-7ac2bc4f57ed",
      "cell_type": "code",
      "source": "",
      "metadata": {
        "trusted": true
      },
      "outputs": [],
      "execution_count": null
    },
    {
      "id": "ac40d604-2572-4e13-a77c-89001c20cd4f",
      "cell_type": "code",
      "source": "",
      "metadata": {
        "trusted": true
      },
      "outputs": [],
      "execution_count": null
    },
    {
      "id": "b67b8468-4ab5-4da4-b8c8-54d6c3cab3b2",
      "cell_type": "code",
      "source": "",
      "metadata": {
        "trusted": true
      },
      "outputs": [],
      "execution_count": null
    },
    {
      "id": "bde077fd-ca83-4383-8c45-3cf44211d065",
      "cell_type": "code",
      "source": "",
      "metadata": {
        "trusted": true
      },
      "outputs": [],
      "execution_count": null
    },
    {
      "id": "9427727a-7ada-4199-b67d-38e898190b96",
      "cell_type": "code",
      "source": "",
      "metadata": {
        "trusted": true
      },
      "outputs": [],
      "execution_count": null
    },
    {
      "id": "8bfef72f-3c53-47e2-a9ac-8004053bf638",
      "cell_type": "code",
      "source": "",
      "metadata": {
        "trusted": true
      },
      "outputs": [],
      "execution_count": null
    },
    {
      "id": "feb0aac0-353d-4215-a70d-4d6994ef6444",
      "cell_type": "code",
      "source": "",
      "metadata": {
        "trusted": true
      },
      "outputs": [],
      "execution_count": null
    },
    {
      "id": "0ebf686c-77d8-4775-9f08-0a4d2b23d04d",
      "cell_type": "code",
      "source": "",
      "metadata": {
        "trusted": true
      },
      "outputs": [],
      "execution_count": null
    },
    {
      "id": "e8bb73ba-5d0b-46e8-84bb-731fcaf4c898",
      "cell_type": "code",
      "source": "",
      "metadata": {
        "trusted": true
      },
      "outputs": [],
      "execution_count": null
    },
    {
      "id": "8318c8f2-89a9-49e9-b1d8-9d677b7d22a0",
      "cell_type": "code",
      "source": "",
      "metadata": {
        "trusted": true
      },
      "outputs": [],
      "execution_count": null
    },
    {
      "id": "2e092eef-06ad-4604-be3e-9c8d9b85e171",
      "cell_type": "code",
      "source": "",
      "metadata": {
        "trusted": true
      },
      "outputs": [],
      "execution_count": null
    },
    {
      "id": "cb3e24ee-5ce8-49cb-b34a-5e4272d7ef60",
      "cell_type": "code",
      "source": "",
      "metadata": {
        "trusted": true
      },
      "outputs": [],
      "execution_count": null
    },
    {
      "id": "544454e1-77cf-4fbf-8710-f92c61e63eb9",
      "cell_type": "code",
      "source": "",
      "metadata": {
        "trusted": true
      },
      "outputs": [],
      "execution_count": null
    },
    {
      "id": "2a6b6556-9f8b-4c6a-8b80-f2947e697564",
      "cell_type": "code",
      "source": "",
      "metadata": {
        "trusted": true
      },
      "outputs": [],
      "execution_count": null
    },
    {
      "id": "b7c7e913-207a-41df-867d-7e9707fb98de",
      "cell_type": "code",
      "source": "",
      "metadata": {
        "trusted": true
      },
      "outputs": [],
      "execution_count": null
    },
    {
      "id": "9018fc77-0630-4d31-83f1-157d636a9d54",
      "cell_type": "code",
      "source": "",
      "metadata": {
        "trusted": true
      },
      "outputs": [],
      "execution_count": null
    },
    {
      "id": "837fde3a-977e-40d1-806c-d0e7dd2e6b35",
      "cell_type": "code",
      "source": "",
      "metadata": {
        "trusted": true
      },
      "outputs": [],
      "execution_count": null
    },
    {
      "id": "476215f8-8c44-4ea3-a086-4628281a5298",
      "cell_type": "code",
      "source": "",
      "metadata": {
        "trusted": true
      },
      "outputs": [],
      "execution_count": null
    },
    {
      "id": "944c0f4c-82e5-4a61-ba94-57ac2a8a19f5",
      "cell_type": "code",
      "source": "",
      "metadata": {
        "trusted": true
      },
      "outputs": [],
      "execution_count": null
    },
    {
      "id": "19c1c2b2-c6ea-4a53-8b17-9e62ce34e270",
      "cell_type": "code",
      "source": "",
      "metadata": {
        "trusted": true
      },
      "outputs": [],
      "execution_count": null
    },
    {
      "id": "370bdbe9-2f3b-4228-b520-c9c5a290eb1e",
      "cell_type": "code",
      "source": "",
      "metadata": {
        "trusted": true
      },
      "outputs": [],
      "execution_count": null
    },
    {
      "id": "85e7d1a2-eae0-49dc-9cc1-5e925b9e65e8",
      "cell_type": "code",
      "source": "",
      "metadata": {
        "trusted": true
      },
      "outputs": [],
      "execution_count": null
    },
    {
      "id": "c6e470ce-c889-46eb-b2b0-62a02d3d22a6",
      "cell_type": "code",
      "source": "",
      "metadata": {
        "trusted": true
      },
      "outputs": [],
      "execution_count": null
    },
    {
      "id": "402d30c1-8b3d-4010-8cca-104a8d36aa10",
      "cell_type": "code",
      "source": "",
      "metadata": {
        "trusted": true
      },
      "outputs": [],
      "execution_count": null
    },
    {
      "id": "052ecc71-f2d0-49c0-b047-f4384ff2f28f",
      "cell_type": "code",
      "source": "",
      "metadata": {
        "trusted": true
      },
      "outputs": [],
      "execution_count": null
    },
    {
      "id": "a44b2298-63a8-47c2-b33a-0a4022460b5a",
      "cell_type": "code",
      "source": "",
      "metadata": {
        "trusted": true
      },
      "outputs": [],
      "execution_count": null
    },
    {
      "id": "19d47132-11f5-4799-9179-434cd8d0b684",
      "cell_type": "code",
      "source": "",
      "metadata": {
        "trusted": true
      },
      "outputs": [],
      "execution_count": null
    },
    {
      "id": "1d62c551-4745-4fbe-8a16-4f946ffe3997",
      "cell_type": "code",
      "source": "",
      "metadata": {
        "trusted": true
      },
      "outputs": [],
      "execution_count": null
    },
    {
      "id": "81260a90-72ef-4239-84d7-e0da9d5a23ab",
      "cell_type": "code",
      "source": "",
      "metadata": {
        "trusted": true
      },
      "outputs": [],
      "execution_count": null
    },
    {
      "id": "a975bcea-57b9-43ab-a78e-7c0ddcb16dd0",
      "cell_type": "code",
      "source": "",
      "metadata": {
        "trusted": true
      },
      "outputs": [],
      "execution_count": null
    },
    {
      "id": "15bfd2f9-7e5f-4ebc-8021-1a14f2dab956",
      "cell_type": "code",
      "source": "",
      "metadata": {
        "trusted": true
      },
      "outputs": [],
      "execution_count": null
    },
    {
      "id": "36b975f0-efe3-4e06-ae62-459d4e2bedb8",
      "cell_type": "code",
      "source": "",
      "metadata": {
        "trusted": true
      },
      "outputs": [],
      "execution_count": null
    },
    {
      "id": "1a8c7c5a-9f3c-4136-84b2-e4abdbc393b9",
      "cell_type": "code",
      "source": "",
      "metadata": {
        "trusted": true
      },
      "outputs": [],
      "execution_count": null
    },
    {
      "id": "c60da314-7540-40b9-a09a-5fa9b23c8b0f",
      "cell_type": "code",
      "source": "",
      "metadata": {
        "trusted": true
      },
      "outputs": [],
      "execution_count": null
    },
    {
      "id": "008b88f1-ddad-4665-be83-a8f218ec41bc",
      "cell_type": "code",
      "source": "",
      "metadata": {
        "trusted": true
      },
      "outputs": [],
      "execution_count": null
    },
    {
      "id": "2af274cd-9430-4ca9-becd-708e4a143867",
      "cell_type": "code",
      "source": "",
      "metadata": {
        "trusted": true
      },
      "outputs": [],
      "execution_count": null
    },
    {
      "id": "0bd00a82-62f1-45a9-920a-21664c130f28",
      "cell_type": "code",
      "source": "",
      "metadata": {
        "trusted": true
      },
      "outputs": [],
      "execution_count": null
    },
    {
      "id": "42aaab33-6d2f-4039-a60b-303992087030",
      "cell_type": "code",
      "source": "",
      "metadata": {
        "trusted": true
      },
      "outputs": [],
      "execution_count": null
    },
    {
      "id": "3659fd17-4c57-4384-9418-5e23969ba419",
      "cell_type": "code",
      "source": "",
      "metadata": {
        "trusted": true
      },
      "outputs": [],
      "execution_count": null
    }
  ]
}